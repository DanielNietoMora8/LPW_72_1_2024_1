{
 "cells": [
  {
   "cell_type": "code",
   "execution_count": 2,
   "id": "c32f7440-3fc5-4dc5-970c-95419ba9ec7b",
   "metadata": {},
   "outputs": [],
   "source": [
    "import numpy as np \n",
    "import pandas as pd\n",
    "import matplotlib.pyplot as plt"
   ]
  },
  {
   "cell_type": "code",
   "execution_count": 3,
   "id": "9655422f-afa5-4067-9e17-8df78536fd9a",
   "metadata": {},
   "outputs": [
    {
     "data": {
      "text/html": [
       "<div>\n",
       "<style scoped>\n",
       "    .dataframe tbody tr th:only-of-type {\n",
       "        vertical-align: middle;\n",
       "    }\n",
       "\n",
       "    .dataframe tbody tr th {\n",
       "        vertical-align: top;\n",
       "    }\n",
       "\n",
       "    .dataframe thead th {\n",
       "        text-align: right;\n",
       "    }\n",
       "</style>\n",
       "<table border=\"1\" class=\"dataframe\">\n",
       "  <thead>\n",
       "    <tr style=\"text-align: right;\">\n",
       "      <th></th>\n",
       "      <th>Console</th>\n",
       "      <th>GameName</th>\n",
       "      <th>Review</th>\n",
       "      <th>Score</th>\n",
       "    </tr>\n",
       "  </thead>\n",
       "  <tbody>\n",
       "    <tr>\n",
       "      <th>0</th>\n",
       "      <td>PC</td>\n",
       "      <td>Baldur's Gate 3 Early Access Review</td>\n",
       "      <td>Early Access</td>\n",
       "      <td>6</td>\n",
       "    </tr>\n",
       "    <tr>\n",
       "      <th>1</th>\n",
       "      <td>NS</td>\n",
       "      <td>Control: Ultimate Edition Cloud Version Review</td>\n",
       "      <td>Good</td>\n",
       "      <td>7</td>\n",
       "    </tr>\n",
       "    <tr>\n",
       "      <th>2</th>\n",
       "      <td>XONE, PC, PS4</td>\n",
       "      <td>Doom Eternal: The Ancient Gods Part 1 Review</td>\n",
       "      <td>Good</td>\n",
       "      <td>7</td>\n",
       "    </tr>\n",
       "    <tr>\n",
       "      <th>3</th>\n",
       "      <td>XONE, PC, PS4</td>\n",
       "      <td>Watch Dogs: Legion Review</td>\n",
       "      <td>Great</td>\n",
       "      <td>8</td>\n",
       "    </tr>\n",
       "    <tr>\n",
       "      <th>4</th>\n",
       "      <td>PC</td>\n",
       "      <td>Ring Of Pain Review</td>\n",
       "      <td>Great</td>\n",
       "      <td>8</td>\n",
       "    </tr>\n",
       "    <tr>\n",
       "      <th>...</th>\n",
       "      <td>...</td>\n",
       "      <td>...</td>\n",
       "      <td>...</td>\n",
       "      <td>...</td>\n",
       "    </tr>\n",
       "    <tr>\n",
       "      <th>14796</th>\n",
       "      <td>PC</td>\n",
       "      <td>Doom II Review</td>\n",
       "      <td>Great</td>\n",
       "      <td>8</td>\n",
       "    </tr>\n",
       "    <tr>\n",
       "      <th>14797</th>\n",
       "      <td>PC</td>\n",
       "      <td>Dungeon Master II: The Legend of Skullkeep Review</td>\n",
       "      <td>Mediocre</td>\n",
       "      <td>5</td>\n",
       "    </tr>\n",
       "    <tr>\n",
       "      <th>14798</th>\n",
       "      <td>PC</td>\n",
       "      <td>Endorfun Review</td>\n",
       "      <td>Good</td>\n",
       "      <td>7</td>\n",
       "    </tr>\n",
       "    <tr>\n",
       "      <th>14799</th>\n",
       "      <td>PC</td>\n",
       "      <td>FIFA Soccer 96 Review</td>\n",
       "      <td>Superb</td>\n",
       "      <td>9</td>\n",
       "    </tr>\n",
       "    <tr>\n",
       "      <th>14800</th>\n",
       "      <td>PC</td>\n",
       "      <td>Full Throttle Review</td>\n",
       "      <td>Great</td>\n",
       "      <td>8</td>\n",
       "    </tr>\n",
       "  </tbody>\n",
       "</table>\n",
       "<p>14801 rows × 4 columns</p>\n",
       "</div>"
      ],
      "text/plain": [
       "             Console                                           GameName  \\\n",
       "0                 PC                Baldur's Gate 3 Early Access Review   \n",
       "1                 NS     Control: Ultimate Edition Cloud Version Review   \n",
       "2      XONE, PC, PS4       Doom Eternal: The Ancient Gods Part 1 Review   \n",
       "3      XONE, PC, PS4                          Watch Dogs: Legion Review   \n",
       "4                 PC                                Ring Of Pain Review   \n",
       "...              ...                                                ...   \n",
       "14796             PC                                     Doom II Review   \n",
       "14797             PC  Dungeon Master II: The Legend of Skullkeep Review   \n",
       "14798             PC                                    Endorfun Review   \n",
       "14799             PC                              FIFA Soccer 96 Review   \n",
       "14800             PC                               Full Throttle Review   \n",
       "\n",
       "             Review  Score  \n",
       "0      Early Access      6  \n",
       "1              Good      7  \n",
       "2              Good      7  \n",
       "3             Great      8  \n",
       "4             Great      8  \n",
       "...             ...    ...  \n",
       "14796         Great      8  \n",
       "14797      Mediocre      5  \n",
       "14798          Good      7  \n",
       "14799        Superb      9  \n",
       "14800         Great      8  \n",
       "\n",
       "[14801 rows x 4 columns]"
      ]
     },
     "execution_count": 3,
     "metadata": {},
     "output_type": "execute_result"
    }
   ],
   "source": [
    "pd.read_csv(\"Games.csv\")"
   ]
  },
  {
   "cell_type": "code",
   "execution_count": 4,
   "id": "3fd5dbbb-9b58-4193-aa25-f85a47722ede",
   "metadata": {},
   "outputs": [
    {
     "data": {
      "text/plain": [
       "0                      Baldur's Gate 3 Early Access Review\n",
       "1           Control: Ultimate Edition Cloud Version Review\n",
       "2             Doom Eternal: The Ancient Gods Part 1 Review\n",
       "3                                Watch Dogs: Legion Review\n",
       "4                                      Ring Of Pain Review\n",
       "                               ...                        \n",
       "14796                                       Doom II Review\n",
       "14797    Dungeon Master II: The Legend of Skullkeep Review\n",
       "14798                                      Endorfun Review\n",
       "14799                                FIFA Soccer 96 Review\n",
       "14800                                 Full Throttle Review\n",
       "Name: GameName, Length: 14801, dtype: object"
      ]
     },
     "execution_count": 4,
     "metadata": {},
     "output_type": "execute_result"
    }
   ],
   "source": [
    "DF=pd.read_csv(\"Games.csv\")\n",
    "DF[\"GameName\"]"
   ]
  },
  {
   "cell_type": "code",
   "execution_count": 4,
   "id": "8340df53-52b1-4838-a459-957738e52148",
   "metadata": {},
   "outputs": [
    {
     "data": {
      "text/plain": [
       "0        Early Access\n",
       "1                Good\n",
       "2                Good\n",
       "3               Great\n",
       "4               Great\n",
       "             ...     \n",
       "14796           Great\n",
       "14797        Mediocre\n",
       "14798            Good\n",
       "14799          Superb\n",
       "14800           Great\n",
       "Name: Review, Length: 14801, dtype: object"
      ]
     },
     "execution_count": 4,
     "metadata": {},
     "output_type": "execute_result"
    }
   ],
   "source": [
    "DF=pd.read_csv(\"Games.csv\")\n",
    "DF[\"Review\"]"
   ]
  },
  {
   "cell_type": "code",
   "execution_count": 5,
   "id": "98be98d1-8e37-46f6-a216-4b3b471f64be",
   "metadata": {},
   "outputs": [
    {
     "data": {
      "text/plain": [
       "0        6\n",
       "1        7\n",
       "2        7\n",
       "3        8\n",
       "4        8\n",
       "        ..\n",
       "14796    8\n",
       "14797    5\n",
       "14798    7\n",
       "14799    9\n",
       "14800    8\n",
       "Name: Score, Length: 14801, dtype: int64"
      ]
     },
     "execution_count": 5,
     "metadata": {},
     "output_type": "execute_result"
    }
   ],
   "source": [
    "DF=pd.read_csv(\"Games.csv\")\n",
    "DF[\"Score\"]"
   ]
  },
  {
   "cell_type": "code",
   "execution_count": 6,
   "id": "4fbce44c-084f-4949-b595-66cd7c213a37",
   "metadata": {},
   "outputs": [
    {
     "data": {
      "text/plain": [
       "6"
      ]
     },
     "execution_count": 6,
     "metadata": {},
     "output_type": "execute_result"
    }
   ],
   "source": [
    "DF=pd.read_csv(\"Games.csv\")\n",
    "DF[\"Score\"][0]"
   ]
  },
  {
   "cell_type": "code",
   "execution_count": 7,
   "id": "de96cf39-77b6-4465-b800-02e8aae25ae7",
   "metadata": {},
   "outputs": [
    {
     "data": {
      "text/plain": [
       "7"
      ]
     },
     "execution_count": 7,
     "metadata": {},
     "output_type": "execute_result"
    }
   ],
   "source": [
    "DF=pd.read_csv(\"Games.csv\")\n",
    "DF[\"Score\"][6]"
   ]
  },
  {
   "cell_type": "code",
   "execution_count": 8,
   "id": "70fa51e6-b4e8-42b9-8cd6-bb3ac92a6050",
   "metadata": {},
   "outputs": [
    {
     "data": {
      "text/plain": [
       "Console                                      PC\n",
       "GameName    Baldur's Gate 3 Early Access Review\n",
       "Review                             Early Access\n",
       "Score                                         6\n",
       "Name: 0, dtype: object"
      ]
     },
     "execution_count": 8,
     "metadata": {},
     "output_type": "execute_result"
    }
   ],
   "source": [
    "DF=pd.read_csv(\"Games.csv\")\n",
    "DF.iloc[0]"
   ]
  },
  {
   "cell_type": "code",
   "execution_count": 10,
   "id": "2b0e2fd1-61aa-47cf-88f7-e3091f3a2ab2",
   "metadata": {},
   "outputs": [
    {
     "data": {
      "text/plain": [
       "9"
      ]
     },
     "execution_count": 10,
     "metadata": {},
     "output_type": "execute_result"
    }
   ],
   "source": [
    "DF[\"Score\"].max()"
   ]
  },
  {
   "cell_type": "code",
   "execution_count": 16,
   "id": "1a306853-073b-4f18-93d6-4e86c5d6aa9e",
   "metadata": {},
   "outputs": [],
   "source": [
    "var =DF[\"Score\"]"
   ]
  },
  {
   "cell_type": "code",
   "execution_count": 17,
   "id": "fcfbe5c3-1c93-4fdd-988d-74ddaf18f4a3",
   "metadata": {},
   "outputs": [
    {
     "data": {
      "text/plain": [
       "[<matplotlib.lines.Line2D at 0x1cdca5a1010>]"
      ]
     },
     "execution_count": 17,
     "metadata": {},
     "output_type": "execute_result"
    },
    {
     "data": {
      "image/png": "[encoded data removed]",
      "text/plain": [
       "<Figure size 640x480 with 1 Axes>"
      ]
     },
     "metadata": {},
     "output_type": "display_data"
    }
   ],
   "source": [
    "plt.plot(var)"
   ]
  },
  {
   "cell_type": "code",
   "execution_count": 5,
   "id": "d0587415-bae1-475e-aec0-38cc67490cb1",
   "metadata": {
    "scrolled": true
   },
   "outputs": [
    {
     "data": {
      "text/html": [
       "<div>\n",
       "<style scoped>\n",
       "    .dataframe tbody tr th:only-of-type {\n",
       "        vertical-align: middle;\n",
       "    }\n",
       "\n",
       "    .dataframe tbody tr th {\n",
       "        vertical-align: top;\n",
       "    }\n",
       "\n",
       "    .dataframe thead th {\n",
       "        text-align: right;\n",
       "    }\n",
       "</style>\n",
       "<table border=\"1\" class=\"dataframe\">\n",
       "  <thead>\n",
       "    <tr style=\"text-align: right;\">\n",
       "      <th></th>\n",
       "      <th>Console</th>\n",
       "      <th>GameName</th>\n",
       "      <th>Review</th>\n",
       "      <th>Score</th>\n",
       "    </tr>\n",
       "  </thead>\n",
       "  <tbody>\n",
       "    <tr>\n",
       "      <th>0</th>\n",
       "      <td>PC</td>\n",
       "      <td>Baldur's Gate 3 Early Access Review</td>\n",
       "      <td>Early Access</td>\n",
       "      <td>6</td>\n",
       "    </tr>\n",
       "    <tr>\n",
       "      <th>1</th>\n",
       "      <td>NS</td>\n",
       "      <td>Control: Ultimate Edition Cloud Version Review</td>\n",
       "      <td>Good</td>\n",
       "      <td>7</td>\n",
       "    </tr>\n",
       "    <tr>\n",
       "      <th>2</th>\n",
       "      <td>XONE, PC, PS4</td>\n",
       "      <td>Doom Eternal: The Ancient Gods Part 1 Review</td>\n",
       "      <td>Good</td>\n",
       "      <td>7</td>\n",
       "    </tr>\n",
       "    <tr>\n",
       "      <th>3</th>\n",
       "      <td>XONE, PC, PS4</td>\n",
       "      <td>Watch Dogs: Legion Review</td>\n",
       "      <td>Great</td>\n",
       "      <td>8</td>\n",
       "    </tr>\n",
       "    <tr>\n",
       "      <th>4</th>\n",
       "      <td>PC</td>\n",
       "      <td>Ring Of Pain Review</td>\n",
       "      <td>Great</td>\n",
       "      <td>8</td>\n",
       "    </tr>\n",
       "  </tbody>\n",
       "</table>\n",
       "</div>"
      ],
      "text/plain": [
       "         Console                                        GameName  \\\n",
       "0             PC             Baldur's Gate 3 Early Access Review   \n",
       "1             NS  Control: Ultimate Edition Cloud Version Review   \n",
       "2  XONE, PC, PS4    Doom Eternal: The Ancient Gods Part 1 Review   \n",
       "3  XONE, PC, PS4                       Watch Dogs: Legion Review   \n",
       "4             PC                             Ring Of Pain Review   \n",
       "\n",
       "         Review  Score  \n",
       "0  Early Access      6  \n",
       "1          Good      7  \n",
       "2          Good      7  \n",
       "3         Great      8  \n",
       "4         Great      8  "
      ]
     },
     "execution_count": 5,
     "metadata": {},
     "output_type": "execute_result"
    }
   ],
   "source": [
    "DF.head()"
   ]
  },
  {
   "cell_type": "code",
   "execution_count": null,
   "id": "7f66c468-4344-42c6-a0b6-be528c8dd205",
   "metadata": {},
   "outputs": [],
   "source": []
  }
 ],
 "metadata": {
  "kernelspec": {
   "display_name": "Python 3 (ipykernel)",
   "language": "python",
   "name": "python3"
  },
  "language_info": {
   "codemirror_mode": {
    "name": "ipython",
    "version": 3
   },
   "file_extension": ".py",
   "mimetype": "text/x-python",
   "name": "python",
   "nbconvert_exporter": "python",
   "pygments_lexer": "ipython3",
   "version": "3.11.5"
  }
 },
 "nbformat": 4,
 "nbformat_minor": 5
}
